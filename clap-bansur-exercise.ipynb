{
 "cells": [
  {
   "cell_type": "markdown",
   "metadata": {},
   "source": [
    "1. Escriba el código de SQL que le permite conocer el monto y la cantidad de las transacciones que SIMETRIK considera como conciliables para la base de CLAP"
   ]
  },
  {
   "cell_type": "code",
   "execution_count": null,
   "metadata": {
    "vscode": {
     "languageId": "sql"
    }
   },
   "outputs": [],
   "source": [
    "WITH CTE AS (\n",
    "SELECT \n",
    "\t*,\n",
    "\tROW_NUMBER() OVER(PARTITION BY ID_BANCO ORDER BY FECHA_RECEPCION_BANCO DESC) AS contador  \n",
    "\tFROM CLAP --Aca consigo si hay duplicados para mismo ID\n",
    "),\n",
    "CTE2 AS (\n",
    "\n",
    "SELECT \n",
    "\t\tA.ID_BANCO,\n",
    "\t\tCAST(A.MONTO*1.0 AS NUMERIC(10,2)) AS CLAP_MONTO\n",
    "\n",
    "\tFROM CTE a\n",
    "\n",
    "\tINNER JOIN BANSUR B ON A.ID_BANCO = B.ID_ADQUIRIENTE\n",
    "\tAND CONCAT(coalesce(INICIO6_TARJETA,0),FINAL4_TARJETA) = B.TARJETA\n",
    "\tAND CAST(A.FECHA_TRANSACCION AS DATE) = B.FECHA_TRANSACCION\n",
    "\tAND (CAST(A.MONTO*1.0 AS NUMERIC(10,2)))-B.MONTO <= 0.99\n",
    "\tWHERE A.contador = 1 -- Con esto consigo el ID mas nuevo\n",
    "\tAND A.TIPO_TRX = 'PAGADA'-- Con esto solo los activos y elimino los Nulls\n",
    "\tAND B.TIPO_TRX =  'PAGO'\n",
    "\t)\n",
    "SELECT COUNT(ID_BANCO) AS QTY_TRANSACTION, SUM(CLAP_MONTO) AS SUM_TRANSACTION\n",
    "FROM CTE2;\n"
   ]
  },
  {
   "cell_type": "markdown",
   "metadata": {},
   "source": [
    "Para esta primera pregunta se hicieron varias validaciones que eran solicitadas. En primer lugar, en caso que hubiese mismo ID para distintos estados, elegir el más nuevo. \n",
    "Luego, se refina pagos que:\n",
    "- Estén Pagos\n",
    "- Id coincida en las DB Clap y DB Bansur\n",
    "- Monto coincida\n",
    "- Dígitos de la tarjeta crédito coincidan en ambas bases de datos."
   ]
  },
  {
   "cell_type": "markdown",
   "metadata": {},
   "source": [
    "2. Escriba el código de SQL que le permite conocer el monto y la cantidad de las transacciones que SIMETRIK considera como conciliables para la base de BANSUR"
   ]
  },
  {
   "cell_type": "code",
   "execution_count": null,
   "metadata": {
    "vscode": {
     "languageId": "sql"
    }
   },
   "outputs": [],
   "source": [
    "WITH CTE AS (\n",
    "\n",
    "SELECT \n",
    "\t*,\n",
    "\tROW_NUMBER() OVER(PARTITION BY ID_ADQUIRIENTE order by FECHA_RECEPCION desc) as contador  \n",
    "\tfrom BANSUR\n",
    "\t),\n",
    "CTE2 AS(\n",
    "\n",
    "SELECT A.MONTO,A.ID_ADQUIRIENTE\n",
    "FROM CTE A\n",
    "\tINNER JOIN CLAP B ON A.ID_ADQUIRIENTE = B.ID_BANCO \n",
    "\tAND  A.TARJETA = CONCAT(coalesce(INICIO6_TARJETA,0),FINAL4_TARJETA)\n",
    "\tAND A.FECHA_TRANSACCION = CAST(B.FECHA_TRANSACCION AS DATE)\n",
    "\tAND B.MONTO-(CAST(A.MONTO*1.0 AS NUMERIC(10,2))) <=0.99\n",
    "\tWHERE A.contador = 1\n",
    "\tAND A.TIPO_TRX = 'PAGO'\n",
    "\tAND B.TIPO_TRX = 'PAGADA'\n",
    ")\n",
    "\n",
    "SELECT SUM(MONTO) AS SUM_TRANSACTION ,COUNT(ID_ADQUIRIENTE) AS QTY_TRANSACTION FROM CTE2;\n"
   ]
  },
  {
   "cell_type": "markdown",
   "metadata": {},
   "source": [
    "La aproximación fue similar a la pregunta anterior."
   ]
  },
  {
   "cell_type": "markdown",
   "metadata": {},
   "source": [
    "3. Teniendo en cuenta los criterios de cruce entre ambas bases conciliables, escriba una sentencia de SQL que contenga la información de CLAP y BANSUR; agregue una columna en la que se evidencie si la transacción cruzó o no con su contrapartida y una columna en la que se inserte un ID autoincremental para el control de la conciliación"
   ]
  },
  {
   "cell_type": "code",
   "execution_count": null,
   "metadata": {
    "vscode": {
     "languageId": "sql"
    }
   },
   "outputs": [],
   "source": [
    "WITH CTE AS (\n",
    "SELECT \n",
    "\t*,\n",
    "\tCOUNT(ID_BANCO) OVER(PARTITION BY ID_BANCO ORDER BY FECHA_RECEPCION_BANCO DESC) AS contador\n",
    "\tFROM CLAP a\n",
    "\n",
    "),\n",
    "CTE2 AS (\n",
    "\n",
    "SELECT \n",
    "\t\tA.ID_BANCO,\n",
    "\t\tCAST(A.MONTO*1.0 AS NUMERIC(10,2)) AS CLAP_MONTO\n",
    "\t\t\n",
    "\n",
    "\tFROM CTE a\n",
    "\n",
    "\tINNER JOIN BANSUR B ON A.ID_BANCO = B.ID_ADQUIRIENTE\n",
    "\tAND CONCAT(coalesce(INICIO6_TARJETA,0),FINAL4_TARJETA) = B.TARJETA\n",
    "\tAND CAST(A.FECHA_TRANSACCION AS DATE) = B.FECHA_TRANSACCION\n",
    "\tAND (CAST(A.MONTO*1.0 AS NUMERIC(10,2)))-B.MONTO <= 0.99\n",
    "\tWHERE A.contador = 1\n",
    "\tAND A.TIPO_TRX = 'PAGADA'\n",
    "\tAND B.TIPO_TRX =  'PAGO'\n",
    "\t)\n",
    "SELECT ID_BANCO \n",
    "INTO #CLAP_TEMP\n",
    "FROM  CTE2;\n",
    "\n",
    "\n",
    "CREATE TABLE #BANSUR_TEMP (\n",
    "ID INT IDENTITY,\n",
    "ID_BANSUR BIGINT,\n",
    "TARJETA_BANSUR BIGINT,\n",
    "FECHA_RECEPCION DATE,\n",
    "CONCILIABLE CHAR(2)\n",
    ");\n",
    "\n",
    "INSERT INTO #BANSUR_TEMP (ID_BANSUR,TARJETA_BANSUR,FECHA_RECEPCION)\n",
    "SELECT ID_ADQUIRIENTE,TARJETA,FECHA_RECEPCION FROM BANSUR;\n",
    "\n",
    "\n",
    "UPDATE A\n",
    "\tSET CONCILIABLE = 'SI' FROM #BANSUR_TEMP A\n",
    "\tINNER JOIN #CLAP_TEMP B ON A.ID_BANSUR = B.ID_BANCO\n",
    "\n",
    "UPDATE #BANSUR_TEMP \n",
    "\tSET CONCILIABLE = 'NO'\n",
    "\tWHERE CONCILIABLE IS NULL;\n",
    "\n",
    "--VER RESULTADOS\n",
    "SELECT * FROM #BANSUR_TEMP\n"
   ]
  },
  {
   "cell_type": "markdown",
   "metadata": {},
   "source": [
    "Mi razonamiento aquí fue de esta manera:\n",
    "\n",
    "- Obtengamos esos ID_BANCO que hicieron MATCH con las validaciones que hicimos anteriormente y luego, si están presentes en la base de BANSUR le ponemos un ‘flag’.\n",
    "\n",
    "El procedimiento fue:\n",
    "- Guardar ID con match en tabla temporal #CLAP_TEMP.\n",
    "- Creación tabla temporal #BANSUR_TEMP con algunas columnas relevantes, pero todas las filas.\n",
    "- Update con flag, uniendo #CLAP_TEMPORAL.\n",
    "- Finalmente para prolijidad se llena con ‘no’ donde no haya coincidencia.\n",
    "\n",
    "Espero que te haya gustado tanto como a mí! Si tenes comentarios no dudes en escribirme!\n"
   ]
  }
 ],
 "metadata": {
  "language_info": {
   "name": "python"
  },
  "orig_nbformat": 4
 },
 "nbformat": 4,
 "nbformat_minor": 2
}
